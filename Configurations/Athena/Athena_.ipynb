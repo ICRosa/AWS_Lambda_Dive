{
 "cells": [
  {
   "cell_type": "code",
   "execution_count": 2,
   "metadata": {},
   "outputs": [],
   "source": [
    "import boto3\n",
    "\n",
    "client = boto3.client('athena', 'us-east-1')"
   ]
  },
  {
   "cell_type": "code",
   "execution_count": 5,
   "metadata": {},
   "outputs": [],
   "source": [
    "response_wg = client.create_work_group(Name='GHA', Description='GHA query group')"
   ]
  },
  {
   "cell_type": "code",
   "execution_count": 4,
   "metadata": {},
   "outputs": [],
   "source": [
    "response = client.create_prepared_statement(\n",
    "    StatementName='hourly_query',\n",
    "    WorkGroup='GHA',\n",
    "    QueryStatement='SELECT count(\"created_at\") FROM \"gha-db\".\"ghadata.ghactivity\" WHERE created_at BETWEEN ? AND ?',\n",
    "    Description='count the rows in determinated time range'\n",
    ")\n",
    "\n",
    "#Nearly same as SQL:\n",
    "# PREPARE hourly_query FROM \n",
    "# SELECT count(\"created_at\") FROM \"gha-db\".\"ghadata.ghactivity\" WHERE created_at BETWEEN ? AND ?"
   ]
  }
 ],
 "metadata": {
  "kernelspec": {
   "display_name": "GHA-AWS",
   "language": "python",
   "name": "python3"
  },
  "language_info": {
   "codemirror_mode": {
    "name": "ipython",
    "version": 3
   },
   "file_extension": ".py",
   "mimetype": "text/x-python",
   "name": "python",
   "nbconvert_exporter": "python",
   "pygments_lexer": "ipython3",
   "version": "3.9.0"
  },
  "orig_nbformat": 4
 },
 "nbformat": 4,
 "nbformat_minor": 2
}
