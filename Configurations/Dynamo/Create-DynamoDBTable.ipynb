{
 "cells": [
  {
   "cell_type": "code",
   "execution_count": 1,
   "metadata": {},
   "outputs": [],
   "source": [
    "import boto3"
   ]
  },
  {
   "cell_type": "code",
   "execution_count": 2,
   "metadata": {},
   "outputs": [],
   "source": [
    "dynamo_client = boto3.client('dynamodb', region_name='us-east-1')"
   ]
  },
  {
   "cell_type": "code",
   "execution_count": 4,
   "metadata": {},
   "outputs": [],
   "source": [
    "dynamo_client.create_table(\n",
    "    AttributeDefinitions=[\n",
    "        {\n",
    "            'AttributeName': 'job_id',\n",
    "            'AttributeType': 'N'\n",
    "        }\n",
    "    ],\n",
    "    TableName='jobs',\n",
    "    KeySchema=[\n",
    "        {\n",
    "          'AttributeName': 'job_id',\n",
    "          'KeyType': 'HASH'\n",
    "        }       \n",
    "    ],\n",
    "    BillingMode='PAY_PER_REQUEST'\n",
    ")"
   ]
  }
 ],
 "metadata": {
  "kernelspec": {
   "display_name": "gha-aws",
   "language": "python",
   "name": "python3"
  },
  "language_info": {
   "codemirror_mode": {
    "name": "ipython",
    "version": 3
   },
   "file_extension": ".py",
   "mimetype": "text/x-python",
   "name": "python",
   "nbconvert_exporter": "python",
   "pygments_lexer": "ipython3",
   "version": "3.11.0"
  },
  "orig_nbformat": 4
 },
 "nbformat": 4,
 "nbformat_minor": 2
}
