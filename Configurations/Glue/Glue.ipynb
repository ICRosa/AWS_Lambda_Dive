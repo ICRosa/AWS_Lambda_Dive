{
 "cells": [
  {
   "cell_type": "code",
   "execution_count": 1,
   "metadata": {},
   "outputs": [],
   "source": [
    "#This Notebook do not reach the total desired result, looking to update it to terraform, till there i recomend using AWS GUI\n",
    "\n",
    "import boto3\n",
    "\n",
    "client = boto3.client('glue', 'us-east-1')"
   ]
  },
  {
   "cell_type": "code",
   "execution_count": null,
   "metadata": {},
   "outputs": [],
   "source": [
    "response_db = client.create_database(DatabaseInput={'Name': 'gha-db'})"
   ]
  },
  {
   "cell_type": "code",
   "execution_count": null,
   "metadata": {},
   "outputs": [],
   "source": [
    "response_cw = client.create_crawler(Name=\"GHA_crawler\",Role=\"<Role ARN>\", Targets={\n",
    "    'S3Targets': [\n",
    "        {\n",
    "            'Path': 'string',\n",
    "            'Exclusions': [\n",
    "                'string',\n",
    "            ],\n",
    "            'ConnectionName': 'string',\n",
    "            'SampleSize': 123,\n",
    "            'EventQueueArn': 'string',\n",
    "            'DlqEventQueueArn': 'string'\n",
    "        },\n",
    "    ]},\n",
    "    \n",
    ")"
   ]
  }
 ],
 "metadata": {
  "kernelspec": {
   "display_name": "GHA-AWS",
   "language": "python",
   "name": "python3"
  },
  "language_info": {
   "codemirror_mode": {
    "name": "ipython",
    "version": 3
   },
   "file_extension": ".py",
   "mimetype": "text/x-python",
   "name": "python",
   "nbconvert_exporter": "python",
   "pygments_lexer": "ipython3",
   "version": "3.9.0"
  },
  "orig_nbformat": 4
 },
 "nbformat": 4,
 "nbformat_minor": 2
}
