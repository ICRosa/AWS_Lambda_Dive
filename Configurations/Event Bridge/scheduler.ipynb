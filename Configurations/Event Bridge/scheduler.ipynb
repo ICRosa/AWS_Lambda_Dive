{
 "cells": [
  {
   "cell_type": "code",
   "execution_count": 2,
   "metadata": {},
   "outputs": [],
   "source": [
    "import boto3\n",
    "\n",
    "client = boto3.client('scheduler', 'us-east-1')"
   ]
  },
  {
   "cell_type": "code",
   "execution_count": null,
   "metadata": {},
   "outputs": [],
   "source": [
    "IAM_exemple = {\n",
    "    \"Version\": \"2012-10-17\",\n",
    "    \"Statement\": [\n",
    "        {\n",
    "            \"Effect\": \"Allow\",\n",
    "            \"Action\": [\n",
    "                \"states:StartExecution\"\n",
    "            ],\n",
    "            \"Resource\": [\n",
    "                \"arn:aws:states:us-east-1:911469851726:stateMachine:GHActivity_ETL\"\n",
    "            ]\n",
    "        }\n",
    "    ]\n",
    "}"
   ]
  },
  {
   "cell_type": "code",
   "execution_count": null,
   "metadata": {},
   "outputs": [],
   "source": [
    "response = client.create_schedule(Name=\"GHA-hourly-scheduler\", \n",
    "    FlexibleTimeWindow={\n",
    "        'MaximumWindowInMinutes': 123,\n",
    "        'Mode': 'OFF'\n",
    "    },\n",
    "    ScheduleExpression=\"cron(0 0 * * ? *)\",\n",
    "    Target={\n",
    "        \"Arn\" : \"Step Functions Arn\"\n",
    "        \"RoleArn\" : \"Arn of\" + IAM_exemple \n",
    "    })"
   ]
  }
 ],
 "metadata": {
  "kernelspec": {
   "display_name": "GHA-AWS",
   "language": "python",
   "name": "python3"
  },
  "language_info": {
   "codemirror_mode": {
    "name": "ipython",
    "version": 3
   },
   "file_extension": ".py",
   "mimetype": "text/x-python",
   "name": "python",
   "nbconvert_exporter": "python",
   "pygments_lexer": "ipython3",
   "version": "3.9.0"
  },
  "orig_nbformat": 4
 },
 "nbformat": 4,
 "nbformat_minor": 2
}
